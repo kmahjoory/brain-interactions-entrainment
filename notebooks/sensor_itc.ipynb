{
 "cells": [
  {
   "cell_type": "code",
   "execution_count": 1,
   "metadata": {},
   "outputs": [],
   "source": [
    "import os, sys, glob\n",
    "\n",
    "import numpy as np\n",
    "import matplotlib\n",
    "import matplotlib.pyplot as plt\n",
    "import scipy\n",
    "import scipy.signal as signal\n",
    "\n",
    "import mne\n",
    "\n",
    "import tensorpac\n",
    "import pactools"
   ]
  },
  {
   "cell_type": "code",
   "execution_count": 2,
   "metadata": {},
   "outputs": [
    {
     "name": "stdout",
     "output_type": "stream",
     "text": [
      "['.DS_Store', 'codes', 'data', 'plots_molly', 'outputs']\n"
     ]
    }
   ],
   "source": [
    "# Set subject ID\n",
    "subj_id = 10\n",
    "\n",
    "print(os.listdir('../'))\n",
    "outputs_path = '../outputs'\n",
    "data_path = '../data'\n",
    "meg_dir = os.path.join(data_path, f'subj_{subj_id}', 'meg')\n",
    "mri_dir = os.path.join(data_path, f'subj_{subj_id}', 'mri')\n",
    "fs_subjs_dir = os.path.join(data_path, 'fs_subjects_dir')"
   ]
  },
  {
   "cell_type": "code",
   "execution_count": 3,
   "metadata": {},
   "outputs": [],
   "source": [
    "\n",
    "def mk_epochs_new(meg,  mod_freq=None, tmin=None, tmax=None, baseline=None, annot_pattern='', new_event_value=100):\n",
    "    \"\"\"This function creates epochs based on specified mod_freq and annotation_pattern\n",
    "    Arguments:\n",
    "        meg: annotated MNE object, where bad time spans are annotated as BAD_*\n",
    "        tmin: start time of the epoch in seconds. This parameter should match with baseline.\n",
    "        baseline: to specify baseline correction. e.g. tmin=0, baseline=(0, 0) applies no baseline correction.\n",
    "        mod_freq: to specify the modulating frequency of interest. This parameter should match with the annot_pattern\n",
    "        annot_pattern: The annotation pattern, based on which epochs are created.\n",
    "        new_event_value: to specify new label for events. The default is 100. Optional argument.\n",
    "    Returns:\n",
    "        epoch: Epoch MNE object.\n",
    "    Example1:\n",
    "        The following call will create epochs from mod_freq=1 and encoding events, and will apply baseline correction\n",
    "        between -0.5 and 0. The length of created epochs would be 8/mod_freq + abs(tmin) = 8 + 0.5 = 8.5 seconds or\n",
    "        8.5 * sfreq = 8.5 * 300 samples\n",
    "        mk_epochs(meg.copy(), mod_freq=1., tmin=-0.5, baseline=(-0.5, 0), annot_pattern='e/1.0/')\n",
    "    Example2:\n",
    "        create epochs from maintenance events with mod_freq=3.5\n",
    "        mk_epochs(meg.copy(), mod_freq=3.5, tmin=0, baseline=(0, 0), annot_pattern='m/3.5/')\n",
    "    Notes:\n",
    "        tmin and annotation patterns should match.\n",
    "        baseline = (None, 0) sets baseline to MNE defaults.\n",
    "        baseline = (0, 0), tmin = 0 sets to no baseline.\n",
    "        baseline = (-0.5, 0), tmin = -0.5\n",
    "    \"\"\"\n",
    "    if not tmax:\n",
    "        tmax = (8 / mod_freq) - 1 / meg.info['sfreq']\n",
    "    events = mne.events_from_annotations(meg)\n",
    "    annot = list(events[1].keys())\n",
    "    indx_pattern = np.where([annot_pattern in k for k in annot])[0].tolist()\n",
    "    event_vals_pattern = np.array(list(events[1].values()))[indx_pattern].tolist()\n",
    "    indx_events = np.where(np.isin(events[0][:, 2], event_vals_pattern))[0].tolist()\n",
    "    events4epoch = events[0][indx_events, :]\n",
    "    events4epoch[:, 2] = new_event_value\n",
    "    annot_epoch = mne.annotations_from_events(events4epoch, meg.info['sfreq'])\n",
    "    meg.set_annotations(annot_epoch)\n",
    "    epoch = mne.Epochs(meg, events=events4epoch, tmin=tmin, tmax=tmax, baseline=baseline)\n",
    "    return epoch"
   ]
  },
  {
   "cell_type": "code",
   "execution_count": 4,
   "metadata": {},
   "outputs": [
    {
     "name": "stdout",
     "output_type": "stream",
     "text": [
      "Opening raw data file ../data/subj_10/meg/after_ica_meg.fif...\n",
      "    Read 5 compensation matrices\n",
      "    Range : 0 ... 1525967 =      0.000 ...  5086.557 secs\n",
      "Ready.\n",
      "Opening raw data file /Users/keyvan.mahjoory/k1_analyses/prj_neuroflex/neuroflex_analysis/codes/../data/subj_10/meg/after_ica_meg-1.fif...\n",
      "    Read 5 compensation matrices\n",
      "    Range : 1525968 ... 2103623 =   5086.560 ...  7012.077 secs\n",
      "Ready.\n",
      "Current compensation grade : 3\n"
     ]
    }
   ],
   "source": [
    "# Load after-ICA MEG data and make epochs\n",
    "meg = mne.io.read_raw_fif(os.path.join(meg_dir, 'after_ica_meg.fif'))\n"
   ]
  },
  {
   "cell_type": "code",
   "execution_count": 5,
   "metadata": {},
   "outputs": [
    {
     "name": "stdout",
     "output_type": "stream",
     "text": [
      "Used Annotations descriptions: ['e/1.0/e0/t0/f/r1', 'e/1.0/e0/t0/s/r0', 'e/1.0/e0/t0/s/r1', 'e/1.0/e0/tpi/f/r0', 'e/1.0/e0/tpi/f/r1', 'e/1.0/e0/tpi/s/r0', 'e/1.0/e0/tpi/s/r1', 'e/1.0/epi/t0/f/r0', 'e/1.0/epi/t0/f/r1', 'e/1.0/epi/t0/s/r0', 'e/1.0/epi/t0/s/r1', 'e/1.0/epi/tpi/f/r0', 'e/1.0/epi/tpi/f/r1', 'e/1.0/epi/tpi/s/r0', 'e/1.0/epi/tpi/s/r1', 'e/1.5/e0/t0/f/r0', 'e/1.5/e0/t0/f/r1', 'e/1.5/e0/t0/s/r0', 'e/1.5/e0/t0/s/r1', 'e/1.5/e0/tpi/f/r0', 'e/1.5/e0/tpi/f/r1', 'e/1.5/e0/tpi/s/r0', 'e/1.5/e0/tpi/s/r1', 'e/1.5/epi/t0/f/r1', 'e/1.5/epi/t0/s/r0', 'e/1.5/epi/t0/s/r1', 'e/1.5/epi/tpi/f/r0', 'e/1.5/epi/tpi/f/r1', 'e/1.5/epi/tpi/s/r0', 'e/1.5/epi/tpi/s/r1', 'e/2.0/e0/t0/f/r0', 'e/2.0/e0/t0/f/r1', 'e/2.0/e0/t0/s/r0', 'e/2.0/e0/t0/s/r1', 'e/2.0/e0/tpi/f/r0', 'e/2.0/e0/tpi/f/r1', 'e/2.0/e0/tpi/s/r0', 'e/2.0/e0/tpi/s/r1', 'e/2.0/epi/t0/f/r0', 'e/2.0/epi/t0/f/r1', 'e/2.0/epi/t0/s/r0', 'e/2.0/epi/t0/s/r1', 'e/2.0/epi/tpi/f/r0', 'e/2.0/epi/tpi/f/r1', 'e/2.0/epi/tpi/s/r0', 'e/2.0/epi/tpi/s/r1', 'e/2.5/e0/t0/f/r0', 'e/2.5/e0/t0/f/r1', 'e/2.5/e0/t0/s/r0', 'e/2.5/e0/t0/s/r1', 'e/2.5/e0/tpi/f/r0', 'e/2.5/e0/tpi/f/r1', 'e/2.5/e0/tpi/s/r0', 'e/2.5/e0/tpi/s/r1', 'e/2.5/epi/t0/f/r0', 'e/2.5/epi/t0/f/r1', 'e/2.5/epi/t0/s/r0', 'e/2.5/epi/t0/s/r1', 'e/2.5/epi/tpi/f/r0', 'e/2.5/epi/tpi/f/r1', 'e/2.5/epi/tpi/s/r0', 'e/2.5/epi/tpi/s/r1', 'e/3.0/e0/t0/f/r0', 'e/3.0/e0/t0/f/r1', 'e/3.0/e0/t0/s/r0', 'e/3.0/e0/t0/s/r1', 'e/3.0/e0/tpi/f/r0', 'e/3.0/e0/tpi/f/r1', 'e/3.0/e0/tpi/s/r0', 'e/3.0/e0/tpi/s/r1', 'e/3.0/epi/t0/f/r0', 'e/3.0/epi/t0/f/r1', 'e/3.0/epi/t0/s/r0', 'e/3.0/epi/t0/s/r1', 'e/3.0/epi/tpi/f/r1', 'e/3.0/epi/tpi/s/r0', 'e/3.0/epi/tpi/s/r1', 'e/3.5/e0/t0/f/r0', 'e/3.5/e0/t0/f/r1', 'e/3.5/e0/t0/s/r0', 'e/3.5/e0/t0/s/r1', 'e/3.5/e0/tpi/f/r0', 'e/3.5/e0/tpi/f/r1', 'e/3.5/e0/tpi/s/r0', 'e/3.5/e0/tpi/s/r1', 'e/3.5/epi/t0/f/r0', 'e/3.5/epi/t0/f/r1', 'e/3.5/epi/t0/s/r0', 'e/3.5/epi/t0/s/r1', 'e/3.5/epi/tpi/f/r0', 'e/3.5/epi/tpi/f/r1', 'e/3.5/epi/tpi/s/r0', 'e/3.5/epi/tpi/s/r1', 'e/4.0/e0/t0/f/r0', 'e/4.0/e0/t0/f/r1', 'e/4.0/e0/t0/s/r1', 'e/4.0/e0/tpi/f/r0', 'e/4.0/e0/tpi/f/r1', 'e/4.0/e0/tpi/s/r1', 'e/4.0/epi/t0/f/r0', 'e/4.0/epi/t0/f/r1', 'e/4.0/epi/t0/s/r0', 'e/4.0/epi/t0/s/r1', 'e/4.0/epi/tpi/f/r0', 'e/4.0/epi/tpi/f/r1', 'e/4.0/epi/tpi/s/r0', 'e/4.0/epi/tpi/s/r1', 'm/1.0/e0/t0/f/r1', 'm/1.0/e0/t0/s/r0', 'm/1.0/e0/t0/s/r1', 'm/1.0/e0/tpi/f/r0', 'm/1.0/e0/tpi/f/r1', 'm/1.0/e0/tpi/s/r0', 'm/1.0/e0/tpi/s/r1', 'm/1.0/epi/t0/f/r0', 'm/1.0/epi/t0/f/r1', 'm/1.0/epi/t0/s/r0', 'm/1.0/epi/t0/s/r1', 'm/1.0/epi/tpi/f/r0', 'm/1.0/epi/tpi/f/r1', 'm/1.0/epi/tpi/s/r0', 'm/1.0/epi/tpi/s/r1', 'm/1.5/e0/t0/f/r0', 'm/1.5/e0/t0/f/r1', 'm/1.5/e0/t0/s/r0', 'm/1.5/e0/t0/s/r1', 'm/1.5/e0/tpi/f/r0', 'm/1.5/e0/tpi/f/r1', 'm/1.5/e0/tpi/s/r0', 'm/1.5/e0/tpi/s/r1', 'm/1.5/epi/t0/f/r1', 'm/1.5/epi/t0/s/r0', 'm/1.5/epi/t0/s/r1', 'm/1.5/epi/tpi/f/r0', 'm/1.5/epi/tpi/f/r1', 'm/1.5/epi/tpi/s/r0', 'm/1.5/epi/tpi/s/r1', 'm/2.0/e0/t0/f/r0', 'm/2.0/e0/t0/f/r1', 'm/2.0/e0/t0/s/r0', 'm/2.0/e0/t0/s/r1', 'm/2.0/e0/tpi/f/r0', 'm/2.0/e0/tpi/f/r1', 'm/2.0/e0/tpi/s/r0', 'm/2.0/e0/tpi/s/r1', 'm/2.0/epi/t0/f/r0', 'm/2.0/epi/t0/f/r1', 'm/2.0/epi/t0/s/r0', 'm/2.0/epi/t0/s/r1', 'm/2.0/epi/tpi/f/r0', 'm/2.0/epi/tpi/f/r1', 'm/2.0/epi/tpi/s/r0', 'm/2.0/epi/tpi/s/r1', 'm/2.5/e0/t0/f/r0', 'm/2.5/e0/t0/f/r1', 'm/2.5/e0/t0/s/r0', 'm/2.5/e0/t0/s/r1', 'm/2.5/e0/tpi/f/r0', 'm/2.5/e0/tpi/f/r1', 'm/2.5/e0/tpi/s/r0', 'm/2.5/e0/tpi/s/r1', 'm/2.5/epi/t0/f/r0', 'm/2.5/epi/t0/f/r1', 'm/2.5/epi/t0/s/r0', 'm/2.5/epi/t0/s/r1', 'm/2.5/epi/tpi/f/r0', 'm/2.5/epi/tpi/f/r1', 'm/2.5/epi/tpi/s/r0', 'm/2.5/epi/tpi/s/r1', 'm/3.0/e0/t0/f/r0', 'm/3.0/e0/t0/f/r1', 'm/3.0/e0/t0/s/r0', 'm/3.0/e0/t0/s/r1', 'm/3.0/e0/tpi/f/r0', 'm/3.0/e0/tpi/f/r1', 'm/3.0/e0/tpi/s/r0', 'm/3.0/e0/tpi/s/r1', 'm/3.0/epi/t0/f/r0', 'm/3.0/epi/t0/f/r1', 'm/3.0/epi/t0/s/r0', 'm/3.0/epi/t0/s/r1', 'm/3.0/epi/tpi/f/r1', 'm/3.0/epi/tpi/s/r0', 'm/3.0/epi/tpi/s/r1', 'm/3.5/e0/t0/f/r0', 'm/3.5/e0/t0/f/r1', 'm/3.5/e0/t0/s/r0', 'm/3.5/e0/t0/s/r1', 'm/3.5/e0/tpi/f/r0', 'm/3.5/e0/tpi/f/r1', 'm/3.5/e0/tpi/s/r0', 'm/3.5/e0/tpi/s/r1', 'm/3.5/epi/t0/f/r0', 'm/3.5/epi/t0/f/r1', 'm/3.5/epi/t0/s/r0', 'm/3.5/epi/t0/s/r1', 'm/3.5/epi/tpi/f/r0', 'm/3.5/epi/tpi/f/r1', 'm/3.5/epi/tpi/s/r0', 'm/3.5/epi/tpi/s/r1', 'm/4.0/e0/t0/f/r0', 'm/4.0/e0/t0/f/r1', 'm/4.0/e0/t0/s/r1', 'm/4.0/e0/tpi/f/r0', 'm/4.0/e0/tpi/f/r1', 'm/4.0/e0/tpi/s/r1', 'm/4.0/epi/t0/f/r0', 'm/4.0/epi/t0/f/r1', 'm/4.0/epi/t0/s/r0', 'm/4.0/epi/t0/s/r1', 'm/4.0/epi/tpi/f/r0', 'm/4.0/epi/tpi/f/r1', 'm/4.0/epi/tpi/s/r0', 'm/4.0/epi/tpi/s/r1', 't/1.0/e0/t0/f/r1', 't/1.0/e0/t0/s/r0', 't/1.0/e0/t0/s/r1', 't/1.0/e0/tpi/f/r0', 't/1.0/e0/tpi/f/r1', 't/1.0/e0/tpi/s/r0', 't/1.0/e0/tpi/s/r1', 't/1.0/epi/t0/f/r0', 't/1.0/epi/t0/f/r1', 't/1.0/epi/t0/s/r0', 't/1.0/epi/t0/s/r1', 't/1.0/epi/tpi/f/r0', 't/1.0/epi/tpi/f/r1', 't/1.0/epi/tpi/s/r0', 't/1.0/epi/tpi/s/r1', 't/1.5/e0/t0/f/r0', 't/1.5/e0/t0/f/r1', 't/1.5/e0/t0/s/r0', 't/1.5/e0/t0/s/r1', 't/1.5/e0/tpi/f/r0', 't/1.5/e0/tpi/f/r1', 't/1.5/e0/tpi/s/r0', 't/1.5/e0/tpi/s/r1', 't/1.5/epi/t0/f/r1', 't/1.5/epi/t0/s/r0', 't/1.5/epi/t0/s/r1', 't/1.5/epi/tpi/f/r0', 't/1.5/epi/tpi/f/r1', 't/1.5/epi/tpi/s/r0', 't/1.5/epi/tpi/s/r1', 't/2.0/e0/t0/f/r0', 't/2.0/e0/t0/f/r1', 't/2.0/e0/t0/s/r0', 't/2.0/e0/t0/s/r1', 't/2.0/e0/tpi/f/r0', 't/2.0/e0/tpi/f/r1', 't/2.0/e0/tpi/s/r0', 't/2.0/e0/tpi/s/r1', 't/2.0/epi/t0/f/r0', 't/2.0/epi/t0/f/r1', 't/2.0/epi/t0/s/r0', 't/2.0/epi/t0/s/r1', 't/2.0/epi/tpi/f/r0', 't/2.0/epi/tpi/f/r1', 't/2.0/epi/tpi/s/r0', 't/2.0/epi/tpi/s/r1', 't/2.5/e0/t0/f/r0', 't/2.5/e0/t0/f/r1', 't/2.5/e0/t0/s/r0', 't/2.5/e0/t0/s/r1', 't/2.5/e0/tpi/f/r0', 't/2.5/e0/tpi/f/r1', 't/2.5/e0/tpi/s/r0', 't/2.5/e0/tpi/s/r1', 't/2.5/epi/t0/f/r0', 't/2.5/epi/t0/f/r1', 't/2.5/epi/t0/s/r0', 't/2.5/epi/t0/s/r1', 't/2.5/epi/tpi/f/r0', 't/2.5/epi/tpi/f/r1', 't/2.5/epi/tpi/s/r0', 't/2.5/epi/tpi/s/r1', 't/3.0/e0/t0/f/r0', 't/3.0/e0/t0/f/r1', 't/3.0/e0/t0/s/r0', 't/3.0/e0/t0/s/r1', 't/3.0/e0/tpi/f/r0', 't/3.0/e0/tpi/f/r1', 't/3.0/e0/tpi/s/r0', 't/3.0/e0/tpi/s/r1', 't/3.0/epi/t0/f/r0', 't/3.0/epi/t0/f/r1', 't/3.0/epi/t0/s/r0', 't/3.0/epi/t0/s/r1', 't/3.0/epi/tpi/f/r1', 't/3.0/epi/tpi/s/r0', 't/3.0/epi/tpi/s/r1', 't/3.5/e0/t0/f/r0', 't/3.5/e0/t0/f/r1', 't/3.5/e0/t0/s/r0', 't/3.5/e0/t0/s/r1', 't/3.5/e0/tpi/f/r0', 't/3.5/e0/tpi/f/r1', 't/3.5/e0/tpi/s/r0', 't/3.5/e0/tpi/s/r1', 't/3.5/epi/t0/f/r0', 't/3.5/epi/t0/f/r1', 't/3.5/epi/t0/s/r0', 't/3.5/epi/t0/s/r1', 't/3.5/epi/tpi/f/r0', 't/3.5/epi/tpi/f/r1', 't/3.5/epi/tpi/s/r0', 't/3.5/epi/tpi/s/r1', 't/4.0/e0/t0/f/r0', 't/4.0/e0/t0/f/r1', 't/4.0/e0/t0/s/r1', 't/4.0/e0/tpi/f/r0', 't/4.0/e0/tpi/f/r1', 't/4.0/e0/tpi/s/r1', 't/4.0/epi/t0/f/r0', 't/4.0/epi/t0/f/r1', 't/4.0/epi/t0/s/r0', 't/4.0/epi/t0/s/r1', 't/4.0/epi/tpi/f/r0', 't/4.0/epi/tpi/f/r1', 't/4.0/epi/tpi/s/r0', 't/4.0/epi/tpi/s/r1']\n",
      "Not setting metadata\n",
      "72 matching events found\n",
      "No baseline correction applied\n",
      "0 projection items activated\n",
      "Loading data for 72 events and 860 original time points ...\n",
      "0 bad epochs dropped\n",
      "(72, 303, 860) 300.0\n"
     ]
    }
   ],
   "source": [
    "fm = '3.0'\n",
    "#epoch = mk_epochs_new(meg.copy(), mod_freq=2., tmin=-0.2, baseline=(-0.2, 0), \n",
    "#                   annot_pattern='e/2.0/', new_event_value=101)\n",
    "epoch = mk_epochs_new(meg.copy(), mod_freq=float(fm), tmin=-0.2, baseline=None, \n",
    "                   annot_pattern=f'e/{fm}/', new_event_value=101)\n",
    "print(epoch.get_data().shape, epoch.info['sfreq'])"
   ]
  },
  {
   "cell_type": "code",
   "execution_count": 7,
   "metadata": {},
   "outputs": [
    {
     "name": "stdout",
     "output_type": "stream",
     "text": [
      "Loading data for 72 events and 860 original time points ...\n",
      "Removing 5 compensators from info because not all compensation channels were picked.\n"
     ]
    }
   ],
   "source": [
    "\n",
    "# Pick Magnetometers\n",
    "ch_names_mag = [meg.ch_names[j] for j, k in enumerate(meg.get_channel_types()) if k=='mag']\n",
    "epoch = epoch.load_data().pick_channels(ch_names=ch_names_mag)"
   ]
  },
  {
   "cell_type": "code",
   "execution_count": 8,
   "metadata": {},
   "outputs": [],
   "source": [
    "def calc_itc(sig, sfreq):\n",
    "    \"\"\"\n",
    "    This function computes ITPC from epoched time series\n",
    "\n",
    "    Args:\n",
    "        sig: epochs x channels x time points\n",
    "        sfreq: sampling frequency\n",
    "        \n",
    "    Returns:\n",
    "        itpc: Inter-trial phase coherence.\n",
    "    \"\"\"\n",
    "    nepoch, nchan, ntp = sig.shape\n",
    "    sig = np.reshape(sig, (-1, ntp))  # convert epochs @ channels @ time-points to  (epochs . channels) @ time-points\n",
    "    nfft = ntp\n",
    "    xwin = signal.windows.hann(ntp).reshape(1, -1)\n",
    "    #plt.plot(xwin)\n",
    "    sig = sig * xwin\n",
    "    #plt.plot(sig)\n",
    "\n",
    "    # Compute FFT\n",
    "    F = scipy.fft.fft(sig)\n",
    "    xfreq = np.arange(nfft/2) * (sfreq/nfft)\n",
    "    #xf = fftfreq(ntp, 1/sfreq)[:ntp//2]\n",
    "    #plt.plot(xfreq, np.abs(F[0,:ntp//2]))\n",
    "\n",
    "    # Compute power, amplitude, and phase spectra\n",
    "    AS = 2/xwin.sum() * np.sqrt(F*np.conjugate(F))  # amplitude spectrum\n",
    "    S = F * np.conjugate(F) / xwin.sum()  # Power spectrum\n",
    "    P = np.arctan(np.imag(F) / np.real(F))  # Phase spectrum\n",
    "\n",
    "    # shorten matrix by half\n",
    "    AS = AS[:, :ntp//2]\n",
    "    S = S[:, :ntp//2]\n",
    "    P = P[:, :ntp//2]\n",
    "    F = F[:, :ntp//2]\n",
    "\n",
    "    # Reshape Fourier matrix to its to initial shape\n",
    "    F = F.reshape((nepoch, nchan, ntp//2))\n",
    "\n",
    "    # inter-trial phase coherence\n",
    "    itpc = np.squeeze(np.abs(np.mean(F/np.abs(F), axis=0)))  # Channel 68\n",
    "    # evoked power\n",
    "    epow = np.squeeze(np.abs(np.mean(F, axis=0)) ** 2)\n",
    "    # total power\n",
    "    tpow = np.squeeze(np.mean(np.abs(F) ** 2, axis=0))\n",
    "\n",
    "    return itpc, xfreq, epow, tpow, F"
   ]
  },
  {
   "cell_type": "code",
   "execution_count": null,
   "metadata": {},
   "outputs": [],
   "source": [
    "\n",
    "# Make epochs\n",
    "for j, fm in enumerate(['1.0', '1.5', '2.0', '2.5', '3.0', '3.5', '4.0']):\n",
    "    epoch_0 = prep.mk_epochs(meg.copy(), mod_freq=float(fm), tmin=0, baseline=(0, 0), annot_pattern=f'e/{fm}/e0', new_event_value=101)\n",
    "    sig_0 = epoch_0.get_data()\n",
    "    \n",
    "    epoch_pi = prep.mk_epochs(meg.copy(), mod_freq=float(fm), tmin=0, baseline=(0, 0), annot_pattern=f'e/{fm}/epi', new_event_value=101)\n",
    "    sig_pi = epoch_pi.get_data()\n",
    "    #sig_pi = prep.shift_phase_pi(sig_pi, fs=meg.info['sfreq'])\n",
    "    sig_pi = prep.shift_phase(sig_pi, dphi=np.pi, f=float(fm), fs=meg.info['sfreq'])\n",
    "    \n",
    "    #sig_0, sig_pi = sync_sigs(sig_0, sig_pi, float(fm), 300)\n",
    "    \n",
    "    sig = np.concatenate((sig_0.copy(), sig_pi.copy()), axis=0)\n",
    "    #sig = sig_0 # sig_0\n",
    "    \n",
    "    # Pick channels with largest auditory response\n",
    "    if fm == '1.0':\n",
    "        evoked = epoch_0.average()\n",
    "        evoked = evoked.copy().filter(l_freq=None, h_freq=20., fir_design='firwin')  # h_freqs = 15, 20, <30\n",
    "        indx = prep.pick_topchans_erf(evoked=evoked)\n",
    "        indx30 = indx['indx30_chan']\n",
    "        indx10lh = indx['indx10lh_chan']\n",
    "        indx10rh = indx['indx10rh_chan']\n",
    "    \n",
    "    sig_sel = sig[:, indx30, :]\n",
    "    \n",
    "    fs = meg.info['sfreq']\n",
    "    itpc, xfreq, epow, tpow, F = calc_itc(sig_sel, fs)\n",
    "    \n",
    "    if fm == '1.0':\n",
    "        fig, ax = plt.subplots(2, 4, sharex=True, sharey=True, figsize=(14, 6))\n",
    "    ax[j//4, j%4].plot(xfreq, itpc.T)\n",
    "    ax[j//4, j%4].set_xlim(0.5, 4.2)\n",
    "    ax[j//4, j%4].set_xticks([1, 1.5, 2, 2.5, 3, 3.5, 4])\n",
    "    ax[j//4, j%4].set_title(f'{float(fm)}Hz')\n",
    "    ax[j//4, j%4].grid(True)\n",
    "    \n"
   ]
  }
 ],
 "metadata": {
  "kernelspec": {
   "display_name": "Python 3",
   "language": "python",
   "name": "python3"
  },
  "language_info": {
   "codemirror_mode": {
    "name": "ipython",
    "version": 3
   },
   "file_extension": ".py",
   "mimetype": "text/x-python",
   "name": "python",
   "nbconvert_exporter": "python",
   "pygments_lexer": "ipython3",
   "version": "3.8.5"
  },
  "orig_nbformat": 4,
  "vscode": {
   "interpreter": {
    "hash": "aee8b7b246df8f9039afb4144a1f6fd8d2ca17a180786b69acc140d282b71a49"
   }
  }
 },
 "nbformat": 4,
 "nbformat_minor": 2
}
