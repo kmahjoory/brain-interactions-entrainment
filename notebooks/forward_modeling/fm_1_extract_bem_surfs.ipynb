{
 "cells": [
  {
   "cell_type": "code",
   "execution_count": 1,
   "metadata": {},
   "outputs": [],
   "source": [
    "import mne\n",
    "import os\n",
    "import matplotlib\n",
    "import matplotlib.pyplot as plt\n",
    "\n",
    "mne.viz.set_3d_options(antialias=False)\n"
   ]
  },
  {
   "cell_type": "code",
   "execution_count": 2,
   "metadata": {},
   "outputs": [],
   "source": [
    "subj_id = 28 #"
   ]
  },
  {
   "cell_type": "code",
   "execution_count": 3,
   "metadata": {},
   "outputs": [],
   "source": [
    "subj_name = f'subj_{subj_id}'\n",
    "fs_subjs_path = '../../datasets/data/fs_subjects_dir/'"
   ]
  },
  {
   "cell_type": "code",
   "execution_count": null,
   "metadata": {},
   "outputs": [],
   "source": [
    "# Make source surface and write it\n",
    "########################################################################################################################\n",
    "src = mne.setup_source_space(subject=subj_name, spacing='oct6', surface='white', \n",
    "                             subjects_dir=fs_subjs_path, add_dist=True)\n",
    "\n",
    "src_path = os.path.join(fs_subjs_path, f'{subj_name}/source')\n",
    "os.makedirs(src_path, exist_ok=True)\n",
    "mne.write_source_spaces(fname=os.path.join(src_path, 'file-src.fif'), src=src, overwrite=True)\n",
    "\n",
    "\n",
    "src = mne.read_source_spaces(os.path.join(src_path, 'file-src.fif'))"
   ]
  },
  {
   "cell_type": "code",
   "execution_count": null,
   "metadata": {},
   "outputs": [],
   "source": [
    "!export FREESURFER_HOME=/Users/keyvan.mahjoory/freesurfer/\n",
    "!source /Users/keyvan.mahjoory/freesurfer/SetUpFreeSurfer.sh\n"
   ]
  },
  {
   "cell_type": "code",
   "execution_count": 4,
   "metadata": {},
   "outputs": [
    {
     "name": "stdout",
     "output_type": "stream",
     "text": [
      "-------- freesurfer-darwin-macOS-7.3.2-20220804-6354275 --------\n",
      "Setting up environment for FreeSurfer/FS-FAST (and FSL)\n",
      "FREESURFER_HOME   /Users/keyvan.mahjoory/freesurfer\n",
      "FSFAST_HOME       /Users/keyvan.mahjoory/freesurfer/fsfast\n",
      "FSF_OUTPUT_FORMAT nii.gz\n",
      "SUBJECTS_DIR      /Users/keyvan.mahjoory/k1_analyses/prj_neuroflex/neuroflex_analysis/datasets/data/fs_subjects_dir\n",
      "MNI_DIR           /Users/keyvan.mahjoory/freesurfer/mni\n"
     ]
    }
   ],
   "source": [
    "import os\n",
    "os.environ['FREESURFER_HOME'] = '/Users/keyvan.mahjoory/freesurfer'\n",
    "os.environ['SUBJECTS_DIR'] ='/Users/keyvan.mahjoory/k1_analyses/prj_neuroflex/neuroflex_analysis/datasets/data/fs_subjects_dir'\n",
    "!source $FREESURFER_HOME/SetUpFreeSurfer.sh\n",
    "\n",
    "#export SUBJECTS_DIR=/Users/keyvan.mahjoory/k1_analyses/prj_neuroflex/neuroflex_analysis/datasets/data/fs_subjects_dir/"
   ]
  },
  {
   "cell_type": "code",
   "execution_count": 5,
   "metadata": {},
   "outputs": [
    {
     "name": "stdout",
     "output_type": "stream",
     "text": [
      "\n",
      "Running mri_watershed for BEM segmentation with the following parameters:\n",
      "\n",
      "Results dir = /Users/keyvan.mahjoory/k1_analyses/prj_neuroflex/neuroflex_analysis/datasets/data/fs_subjects_dir/subj_28/bem/watershed\n",
      "Command = mri_watershed -useSRAS -surf /Users/keyvan.mahjoory/k1_analyses/prj_neuroflex/neuroflex_analysis/datasets/data/fs_subjects_dir/subj_28/bem/watershed/subj_28 /Users/keyvan.mahjoory/k1_analyses/prj_neuroflex/neuroflex_analysis/datasets/data/fs_subjects_dir/subj_28/mri/T1.mgz /Users/keyvan.mahjoory/k1_analyses/prj_neuroflex/neuroflex_analysis/datasets/data/fs_subjects_dir/subj_28/bem/watershed/ws.mgz\n",
      "\n",
      "Running subprocess: mri_watershed -useSRAS -surf /Users/keyvan.mahjoory/k1_analyses/prj_neuroflex/neuroflex_analysis/datasets/data/fs_subjects_dir/subj_28/bem/watershed/subj_28 /Users/keyvan.mahjoory/k1_analyses/prj_neuroflex/neuroflex_analysis/datasets/data/fs_subjects_dir/subj_28/mri/T1.mgz /Users/keyvan.mahjoory/k1_analyses/prj_neuroflex/neuroflex_analysis/datasets/data/fs_subjects_dir/subj_28/bem/watershed/ws.mgz\n",
      "Command not found: mri_watershed\n"
     ]
    },
    {
     "ename": "FileNotFoundError",
     "evalue": "[Errno 2] No such file or directory: 'mri_watershed'",
     "output_type": "error",
     "traceback": [
      "\u001b[0;31m---------------------------------------------------------------------------\u001b[0m",
      "\u001b[0;31mFileNotFoundError\u001b[0m                         Traceback (most recent call last)",
      "Cell \u001b[0;32mIn[5], line 2\u001b[0m\n\u001b[1;32m      1\u001b[0m \u001b[39m## Make brain_surface, inner_skull_surface, outer_skull_surface, outer_skin_surface\u001b[39;00m\n\u001b[0;32m----> 2\u001b[0m mne\u001b[39m.\u001b[39;49mbem\u001b[39m.\u001b[39;49mmake_watershed_bem(subject\u001b[39m=\u001b[39;49msubj_name,\n\u001b[1;32m      3\u001b[0m                            subjects_dir\u001b[39m=\u001b[39;49m\u001b[39m'\u001b[39;49m\u001b[39m/Users/keyvan.mahjoory/k1_analyses/prj_neuroflex/neuroflex_analysis/datasets/data/fs_subjects_dir\u001b[39;49m\u001b[39m'\u001b[39;49m,\n\u001b[1;32m      4\u001b[0m                               overwrite\u001b[39m=\u001b[39;49m\u001b[39mTrue\u001b[39;49;00m)\n",
      "File \u001b[0;32m<decorator-gen-72>:12\u001b[0m, in \u001b[0;36mmake_watershed_bem\u001b[0;34m(subject, subjects_dir, overwrite, volume, atlas, gcaatlas, preflood, show, copy, T1, brainmask, verbose)\u001b[0m\n",
      "File \u001b[0;32m~/opt/anaconda3/envs/mne/lib/python3.10/site-packages/mne/bem.py:1287\u001b[0m, in \u001b[0;36mmake_watershed_bem\u001b[0;34m(subject, subjects_dir, overwrite, volume, atlas, gcaatlas, preflood, show, copy, T1, brainmask, verbose)\u001b[0m\n\u001b[1;32m   1283\u001b[0m logger\u001b[39m.\u001b[39minfo(\u001b[39m'\u001b[39m\u001b[39m\\n\u001b[39;00m\u001b[39mRunning mri_watershed for BEM segmentation with the \u001b[39m\u001b[39m'\u001b[39m\n\u001b[1;32m   1284\u001b[0m             \u001b[39m'\u001b[39m\u001b[39mfollowing parameters:\u001b[39m\u001b[39m\\n\u001b[39;00m\u001b[39m\\n\u001b[39;00m\u001b[39mResults dir = \u001b[39m\u001b[39m%s\u001b[39;00m\u001b[39m\\n\u001b[39;00m\u001b[39mCommand = \u001b[39m\u001b[39m%s\u001b[39;00m\u001b[39m\\n\u001b[39;00m\u001b[39m'\u001b[39m\n\u001b[1;32m   1285\u001b[0m             \u001b[39m%\u001b[39m (ws_dir, \u001b[39m'\u001b[39m\u001b[39m \u001b[39m\u001b[39m'\u001b[39m\u001b[39m.\u001b[39mjoin(cmd)))\n\u001b[1;32m   1286\u001b[0m os\u001b[39m.\u001b[39mmakedirs(op\u001b[39m.\u001b[39mjoin(ws_dir))\n\u001b[0;32m-> 1287\u001b[0m run_subprocess_env(cmd)\n\u001b[1;32m   1288\u001b[0m \u001b[39mdel\u001b[39;00m tempdir  \u001b[39m# clean up directory\u001b[39;00m\n\u001b[1;32m   1289\u001b[0m \u001b[39mif\u001b[39;00m op\u001b[39m.\u001b[39misfile(T1_mgz):\n",
      "File \u001b[0;32m<decorator-gen-1>:12\u001b[0m, in \u001b[0;36mrun_subprocess\u001b[0;34m(command, return_code, verbose, *args, **kwargs)\u001b[0m\n",
      "File \u001b[0;32m~/opt/anaconda3/envs/mne/lib/python3.10/site-packages/mne/utils/misc.py:125\u001b[0m, in \u001b[0;36mrun_subprocess\u001b[0;34m(command, return_code, verbose, *args, **kwargs)\u001b[0m\n\u001b[1;32m    123\u001b[0m out_q \u001b[39m=\u001b[39m Queue()\n\u001b[1;32m    124\u001b[0m err_q \u001b[39m=\u001b[39m Queue()\n\u001b[0;32m--> 125\u001b[0m \u001b[39mwith\u001b[39;00m running_subprocess(command, \u001b[39m*\u001b[39margs, \u001b[39m*\u001b[39m\u001b[39m*\u001b[39mkwargs) \u001b[39mas\u001b[39;00m p, p\u001b[39m.\u001b[39mstdout, p\u001b[39m.\u001b[39mstderr:\n\u001b[1;32m    126\u001b[0m     out_t \u001b[39m=\u001b[39m Thread(target\u001b[39m=\u001b[39m_enqueue_output, args\u001b[39m=\u001b[39m(p\u001b[39m.\u001b[39mstdout, out_q))\n\u001b[1;32m    127\u001b[0m     err_t \u001b[39m=\u001b[39m Thread(target\u001b[39m=\u001b[39m_enqueue_output, args\u001b[39m=\u001b[39m(p\u001b[39m.\u001b[39mstderr, err_q))\n",
      "File \u001b[0;32m~/opt/anaconda3/envs/mne/lib/python3.10/contextlib.py:135\u001b[0m, in \u001b[0;36m_GeneratorContextManager.__enter__\u001b[0;34m(self)\u001b[0m\n\u001b[1;32m    133\u001b[0m \u001b[39mdel\u001b[39;00m \u001b[39mself\u001b[39m\u001b[39m.\u001b[39margs, \u001b[39mself\u001b[39m\u001b[39m.\u001b[39mkwds, \u001b[39mself\u001b[39m\u001b[39m.\u001b[39mfunc\n\u001b[1;32m    134\u001b[0m \u001b[39mtry\u001b[39;00m:\n\u001b[0;32m--> 135\u001b[0m     \u001b[39mreturn\u001b[39;00m \u001b[39mnext\u001b[39;49m(\u001b[39mself\u001b[39;49m\u001b[39m.\u001b[39;49mgen)\n\u001b[1;32m    136\u001b[0m \u001b[39mexcept\u001b[39;00m \u001b[39mStopIteration\u001b[39;00m:\n\u001b[1;32m    137\u001b[0m     \u001b[39mraise\u001b[39;00m \u001b[39mRuntimeError\u001b[39;00m(\u001b[39m\"\u001b[39m\u001b[39mgenerator didn\u001b[39m\u001b[39m'\u001b[39m\u001b[39mt yield\u001b[39m\u001b[39m\"\u001b[39m) \u001b[39mfrom\u001b[39;00m \u001b[39mNone\u001b[39m\n",
      "File \u001b[0;32m~/opt/anaconda3/envs/mne/lib/python3.10/site-packages/mne/utils/misc.py:252\u001b[0m, in \u001b[0;36mrunning_subprocess\u001b[0;34m(command, after, verbose, *args, **kwargs)\u001b[0m\n\u001b[1;32m    250\u001b[0m logger\u001b[39m.\u001b[39minfo(\u001b[39m\"\u001b[39m\u001b[39mRunning subprocess: \u001b[39m\u001b[39m%s\u001b[39;00m\u001b[39m\"\u001b[39m \u001b[39m%\u001b[39m command_str)\n\u001b[1;32m    251\u001b[0m \u001b[39mtry\u001b[39;00m:\n\u001b[0;32m--> 252\u001b[0m     p \u001b[39m=\u001b[39m subprocess\u001b[39m.\u001b[39;49mPopen(command, \u001b[39m*\u001b[39;49margs, \u001b[39m*\u001b[39;49m\u001b[39m*\u001b[39;49mkwargs)\n\u001b[1;32m    253\u001b[0m \u001b[39mexcept\u001b[39;00m \u001b[39mException\u001b[39;00m:\n\u001b[1;32m    254\u001b[0m     \u001b[39mif\u001b[39;00m \u001b[39misinstance\u001b[39m(command, \u001b[39mstr\u001b[39m):\n",
      "File \u001b[0;32m~/opt/anaconda3/envs/mne/lib/python3.10/subprocess.py:971\u001b[0m, in \u001b[0;36mPopen.__init__\u001b[0;34m(self, args, bufsize, executable, stdin, stdout, stderr, preexec_fn, close_fds, shell, cwd, env, universal_newlines, startupinfo, creationflags, restore_signals, start_new_session, pass_fds, user, group, extra_groups, encoding, errors, text, umask, pipesize)\u001b[0m\n\u001b[1;32m    967\u001b[0m         \u001b[39mif\u001b[39;00m \u001b[39mself\u001b[39m\u001b[39m.\u001b[39mtext_mode:\n\u001b[1;32m    968\u001b[0m             \u001b[39mself\u001b[39m\u001b[39m.\u001b[39mstderr \u001b[39m=\u001b[39m io\u001b[39m.\u001b[39mTextIOWrapper(\u001b[39mself\u001b[39m\u001b[39m.\u001b[39mstderr,\n\u001b[1;32m    969\u001b[0m                     encoding\u001b[39m=\u001b[39mencoding, errors\u001b[39m=\u001b[39merrors)\n\u001b[0;32m--> 971\u001b[0m     \u001b[39mself\u001b[39;49m\u001b[39m.\u001b[39;49m_execute_child(args, executable, preexec_fn, close_fds,\n\u001b[1;32m    972\u001b[0m                         pass_fds, cwd, env,\n\u001b[1;32m    973\u001b[0m                         startupinfo, creationflags, shell,\n\u001b[1;32m    974\u001b[0m                         p2cread, p2cwrite,\n\u001b[1;32m    975\u001b[0m                         c2pread, c2pwrite,\n\u001b[1;32m    976\u001b[0m                         errread, errwrite,\n\u001b[1;32m    977\u001b[0m                         restore_signals,\n\u001b[1;32m    978\u001b[0m                         gid, gids, uid, umask,\n\u001b[1;32m    979\u001b[0m                         start_new_session)\n\u001b[1;32m    980\u001b[0m \u001b[39mexcept\u001b[39;00m:\n\u001b[1;32m    981\u001b[0m     \u001b[39m# Cleanup if the child failed starting.\u001b[39;00m\n\u001b[1;32m    982\u001b[0m     \u001b[39mfor\u001b[39;00m f \u001b[39min\u001b[39;00m \u001b[39mfilter\u001b[39m(\u001b[39mNone\u001b[39;00m, (\u001b[39mself\u001b[39m\u001b[39m.\u001b[39mstdin, \u001b[39mself\u001b[39m\u001b[39m.\u001b[39mstdout, \u001b[39mself\u001b[39m\u001b[39m.\u001b[39mstderr)):\n",
      "File \u001b[0;32m~/opt/anaconda3/envs/mne/lib/python3.10/subprocess.py:1847\u001b[0m, in \u001b[0;36mPopen._execute_child\u001b[0;34m(self, args, executable, preexec_fn, close_fds, pass_fds, cwd, env, startupinfo, creationflags, shell, p2cread, p2cwrite, c2pread, c2pwrite, errread, errwrite, restore_signals, gid, gids, uid, umask, start_new_session)\u001b[0m\n\u001b[1;32m   1845\u001b[0m     \u001b[39mif\u001b[39;00m errno_num \u001b[39m!=\u001b[39m \u001b[39m0\u001b[39m:\n\u001b[1;32m   1846\u001b[0m         err_msg \u001b[39m=\u001b[39m os\u001b[39m.\u001b[39mstrerror(errno_num)\n\u001b[0;32m-> 1847\u001b[0m     \u001b[39mraise\u001b[39;00m child_exception_type(errno_num, err_msg, err_filename)\n\u001b[1;32m   1848\u001b[0m \u001b[39mraise\u001b[39;00m child_exception_type(err_msg)\n",
      "\u001b[0;31mFileNotFoundError\u001b[0m: [Errno 2] No such file or directory: 'mri_watershed'"
     ]
    }
   ],
   "source": [
    "## Make brain_surface, inner_skull_surface, outer_skull_surface, outer_skin_surface\n",
    "mne.bem.make_watershed_bem(subject=subj_name,\n",
    "                           subjects_dir='/Users/keyvan.mahjoory/k1_analyses/prj_neuroflex/neuroflex_analysis/datasets/data/fs_subjects_dir',\n",
    "                              overwrite=True)"
   ]
  },
  {
   "cell_type": "code",
   "execution_count": null,
   "metadata": {},
   "outputs": [],
   "source": [
    "# visualize bem surfaces\n",
    "fig = mne.viz.plot_bem(subject=subj_name, subjects_dir=fs_subjs_path, orientation='coronal',\n",
    "                 slices=None, brain_surfaces=None, src=src, show=True, show_indices=True, \n",
    "                 mri='T1.mgz', show_orientation=True)"
   ]
  }
 ],
 "metadata": {
  "kernelspec": {
   "display_name": "mne",
   "language": "python",
   "name": "python3"
  },
  "language_info": {
   "codemirror_mode": {
    "name": "ipython",
    "version": 3
   },
   "file_extension": ".py",
   "mimetype": "text/x-python",
   "name": "python",
   "nbconvert_exporter": "python",
   "pygments_lexer": "ipython3",
   "version": "3.10.8"
  },
  "orig_nbformat": 4
 },
 "nbformat": 4,
 "nbformat_minor": 2
}
